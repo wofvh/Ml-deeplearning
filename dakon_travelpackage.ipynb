{
 "cells": [
  {
   "cell_type": "markdown",
   "metadata": {},
   "source": [
    "**라이브러리 호출**"
   ]
  },
  {
   "cell_type": "code",
   "execution_count": null,
   "metadata": {},
   "outputs": [],
   "source": [
    "from time import time\n",
    "from sklearn.model_selection import train_test_split\n",
    "import pandas as pd\n",
    "import numpy as np "
   ]
  },
  {
   "cell_type": "markdown",
   "metadata": {},
   "source": [
    "**데이터 불러오기 및 전처리**"
   ]
  },
  {
   "cell_type": "code",
   "execution_count": null,
   "metadata": {},
   "outputs": [],
   "source": [
    "path = './_data/travel/' # \".은 현재 폴더\"\n",
    "train_set = pd.read_csv(path + 'train.csv',\n",
    "                        index_col=0)\n",
    "test_set = pd.read_csv(path + 'test.csv', \n",
    "                       index_col=0)\n",
    "\n",
    "\n",
    "\n",
    "train_set.info()\n",
    "\n",
    "\n",
    "\n",
    "train_set['TypeofContact'].fillna('Self Enquiry', inplace=True)\n",
    "test_set['TypeofContact'].fillna('Self Enquiry', inplace=True)\n",
    "train_set['Age'].fillna(train_set.groupby('Designation')['Age'].transform('mean'), inplace=True)\n",
    "test_set['Age'].fillna(test_set.groupby('Designation')['Age'].transform('mean'), inplace=True)\n",
    "train_set['Age']=np.round(train_set['Age'],0).astype(int)\n",
    "test_set['Age']=np.round(test_set['Age'],0).astype(int)\n",
    "\n",
    "\n",
    "\n",
    "train_set['MonthlyIncome'].fillna(train_set.groupby('Designation')['MonthlyIncome'].transform('mean'), inplace=True)\n",
    "test_set['MonthlyIncome'].fillna(test_set.groupby('Designation')['MonthlyIncome'].transform('mean'), inplace=True)\n",
    "print(train_set.describe) #(1955, 19)\n",
    "print(train_set[train_set['MonthlyIncome'].notnull()].groupby(['Designation'])['MonthlyIncome'].mean())\n",
    "\n",
    "train_set['NumberOfChildrenVisiting'].fillna(train_set.groupby('MaritalStatus')['NumberOfChildrenVisiting'].transform('mean'), inplace=True)\n",
    "test_set['NumberOfChildrenVisiting'].fillna(test_set.groupby('MaritalStatus')['NumberOfChildrenVisiting'].transform('mean'), inplace=True)\n",
    "train_set['NumberOfFollowups'].fillna(train_set.groupby('NumberOfChildrenVisiting')['NumberOfFollowups'].transform('mean'), inplace=True)\n",
    "test_set['NumberOfFollowups'].fillna(test_set.groupby('NumberOfChildrenVisiting')['NumberOfFollowups'].transform('mean'), inplace=True)"
   ]
  }
 ],
 "metadata": {
  "kernelspec": {
   "display_name": "Python 3.9.7 ('tf282gpu')",
   "language": "python",
   "name": "python3"
  },
  "language_info": {
   "name": "python",
   "version": "3.9.7"
  },
  "orig_nbformat": 4,
  "vscode": {
   "interpreter": {
    "hash": "df88f286fcd5f82d6263e3a1df7af676711953b4f295dd9e8586b691ec36fe66"
   }
  }
 },
 "nbformat": 4,
 "nbformat_minor": 2
}
